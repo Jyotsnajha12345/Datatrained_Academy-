{
 "cells": [
  {
   "cell_type": "code",
   "execution_count": null,
   "id": "cc1c1e4c",
   "metadata": {},
   "outputs": [],
   "source": []
  },
  {
   "cell_type": "markdown",
   "id": "07584b78",
   "metadata": {},
   "source": [
    "3.1\tInsert records from 42_District_wise_crimes_committed_against_women_2001_2012.csv into a table\n",
    "\n"
   ]
  },
  {
   "cell_type": "code",
   "execution_count": null,
   "id": "54d9b37f",
   "metadata": {},
   "outputs": [],
   "source": [
    "SHOW DATABASES;\n",
    "USE mydb;\n"
   ]
  },
  {
   "cell_type": "code",
   "execution_count": null,
   "id": "7c2d48e3",
   "metadata": {},
   "outputs": [],
   "source": [
    "CREATE TABLE DistrictWiseCrimesAgainstWomen (\n",
    "    Year INT,\n",
    "    District_Name VARCHAR(200),\n",
    "    STATE_UT VARCHAR(200),\n",
    "    Rape INT,\n",
    "    Kidnapping_and_Abduction INT,\n",
    "    Dowry_Deaths INT,\n",
    "    Assault INT,\n",
    "    Insult Int,\n",
    "    Cruelty_by_Husband INT,\n",
    "    Importation INT);\n",
    "SHOW VARIABLES LIKE \"secure_file_priv\";"
   ]
  },
  {
   "cell_type": "code",
   "execution_count": null,
   "id": "21d27992",
   "metadata": {},
   "outputs": [],
   "source": []
  },
  {
   "cell_type": "code",
   "execution_count": null,
   "id": "4a282466",
   "metadata": {},
   "outputs": [],
   "source": [
    "LOAD DATA INFILE '\"D:\\secure_file_priv\\42_District_wise_crimes_committed_against_women_2001_2012.csv\"' \n",
    "INTO TABLE DistrictWiseCrimesAgainstWomen\n",
    "FIELDS TERMINATED BY ',' \n",
    "LINES TERMINATED BY '\\n'\n",
    "IGNORE 1 LINES;\n"
   ]
  },
  {
   "cell_type": "code",
   "execution_count": null,
   "id": "5286297f",
   "metadata": {},
   "outputs": [],
   "source": [
    "LOAD DATA LOCAL INFILE 'C:\\\\Users\\\\Dell\\\\Downloads\\\\42_District_wise_crimes_committed_against_women_2001_2012.csv'\n",
    "INTO TABLE DistrictWiseCrimesAgainstWomen\n",
    "FIELDS TERMINATED BY ',' \n",
    "LINES TERMINATED BY '\\n'\n",
    "IGNORE 1 LINES\n",
    "(@csv_column1, @csv_column2, ...)\n",
    "SET\n",
    "    Year = @csv_column1,\n",
    "    District_Name = @csv_column2,\n",
    "    -- Map other columns accordingly\n",
    ";\n",
    "In "
   ]
  },
  {
   "cell_type": "markdown",
   "id": "ac7cd88c",
   "metadata": {},
   "source": [
    "3.4\tInsert records from 02_District_wise_crimes_committed_against_ST_2001_2012.csv into a new table\n",
    "\n"
   ]
  },
  {
   "cell_type": "code",
   "execution_count": null,
   "id": "7a3ff0f9",
   "metadata": {},
   "outputs": [],
   "source": [
    "SHOW DATABASES;\n",
    "USE mydb;\n"
   ]
  },
  {
   "cell_type": "code",
   "execution_count": null,
   "id": "a7f27f61",
   "metadata": {},
   "outputs": [],
   "source": [
    "CREATE TABLE CrimesAgainstST (\n",
    "    STATE_UT VARCHAR(200),\n",
    "    DISTRICT VARCHAR(200),\n",
    "    Year INT,\n",
    "    Murder INT,\n",
    "    Rape INT,\n",
    "    Kidnapping_Abduction INT,\n",
    "    Dacoity INT,\n",
    "    Robbery Int,\n",
    "    Arson INT,\n",
    "    Hurt INT,\n",
    "    Protection_of_Civil_Rights_Act INT,\n",
    "    Prevention_of_atrocities_Act INT,\n",
    "    Other_Crimes_Against_STs INT);\n"
   ]
  },
  {
   "cell_type": "code",
   "execution_count": null,
   "id": "7bc77cf4",
   "metadata": {},
   "outputs": [],
   "source": [
    "LOAD DATA INFILE \"D:\\secure_file_priv\\02_District_wise_crimes_committed_against_ST_2001_2012.csv\"\n",
    "INTO TABLE crimesagainstst\n",
    "FIELDS TERMINATED BY ',' \n",
    "ENCLOSED BY '\"'\n",
    "LINES TERMINATED BY '\\r\\n'\n",
    "IGNORE 1 LINES;\n",
    "\n"
   ]
  },
  {
   "cell_type": "code",
   "execution_count": null,
   "id": "9c256109",
   "metadata": {},
   "outputs": [],
   "source": [
    "LOAD DATA LOCAL INFILE \"D:\\secure_file_priv\\02_District_wise_crimes_committed_against_ST_2001_2012.csv\"\n",
    "INTO TABLE crimesagainstst\n",
    "FIELDS TERMINATED BY ',' \n",
    "ENCLOSED BY '\"'\n",
    "LINES TERMINATED BY '\\r\\n'\n",
    "IGNORE 1 LINES;\n",
    "C:\\ProgramData\\MySQL\\MySQL Server 8.0\\Uploads\\"
   ]
  },
  {
   "cell_type": "code",
   "execution_count": null,
   "id": "a1ec9ca0",
   "metadata": {},
   "outputs": [],
   "source": [
    "cd C:\\ProgramData\\MySQL\\MySQL\n",
    "Move-Item .\"D:\\secure_file_priv\\02_District_wise_crimes_committed_against_ST_2001_2012.csv\"\n"
   ]
  }
 ],
 "metadata": {
  "kernelspec": {
   "display_name": "Python 3 (ipykernel)",
   "language": "python",
   "name": "python3"
  },
  "language_info": {
   "codemirror_mode": {
    "name": "ipython",
    "version": 3
   },
   "file_extension": ".py",
   "mimetype": "text/x-python",
   "name": "python",
   "nbconvert_exporter": "python",
   "pygments_lexer": "ipython3",
   "version": "3.11.5"
  }
 },
 "nbformat": 4,
 "nbformat_minor": 5
}
