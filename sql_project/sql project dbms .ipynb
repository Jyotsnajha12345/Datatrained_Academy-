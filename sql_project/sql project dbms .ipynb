{
 "cells": [
  {
   "cell_type": "code",
   "execution_count": null,
   "id": "3298c845",
   "metadata": {},
   "outputs": [],
   "source": [
    "use project  #have used my project databases"
   ]
  },
  {
   "cell_type": "code",
   "execution_count": null,
   "id": "fb0190b2",
   "metadata": {},
   "outputs": [],
   "source": [
    "CREATE TABLE Books (\n",
    "    book_id INT PRIMARY KEY,\n",
    "    title VARCHAR(255),\n",
    "    author VARCHAR(255),\n",
    "    genre VARCHAR(100),\n",
    "    publication_date DATE,\n",
    "    isbn VARCHAR(20), -- Adjust the size as necessary to accommodate your ISBNs\n",
    "    quantity_available INT\n",
    ");\n"
   ]
  },
  {
   "cell_type": "code",
   "execution_count": null,
   "id": "ac2772e0",
   "metadata": {},
   "outputs": [],
   "source": [
    "INSERT INTO Books (book_id, title, author, genre, publication_date, isbn, quantity_available)\n",
    "VALUES\n",
    "    (1, 'Harry Potter', 'J.K. Rowling', 'Fantasy', '1997-06-26', '9788700631625', 5),\n",
    "    (2, 'To Kill a Mockingbird', 'Harper Lee', 'Fiction', '1960-07-11', '9780061120084', 3),\n",
    "    (3, 'The Great Gatsby', 'F. Scott Fitzgerald', 'Classic', '1925-04-10', '9780743273565', 2);\n"
   ]
  },
  {
   "cell_type": "code",
   "execution_count": null,
   "id": "6c2924cd",
   "metadata": {},
   "outputs": [],
   "source": [
    "create table Authors(\n",
    "author_id int Primary Key,\n",
    "author_name varchar(100));"
   ]
  },
  {
   "cell_type": "code",
   "execution_count": null,
   "id": "062c39a7",
   "metadata": {},
   "outputs": [],
   "source": [
    "INSERT INTO Authors (author_id, author_name)\n",
    "VALUES\n",
    "    (1, 'J.K. Rowling'),\n",
    "    (2, 'Harper Lee'),\n",
    "    (3, 'F. Scott Fitzgerald');\n"
   ]
  },
  {
   "cell_type": "code",
   "execution_count": null,
   "id": "a486e5c3",
   "metadata": {},
   "outputs": [],
   "source": [
    "create table Members(\n",
    "member_id int Primary Key,\n",
    "member_name varchar(100),\n",
    "member_email varchar(100),\n",
    "member_phone varchar(20));"
   ]
  },
  {
   "cell_type": "code",
   "execution_count": null,
   "id": "888525ee",
   "metadata": {},
   "outputs": [],
   "source": [
    "INSERT INTO Members (member_id, member_name, member_email, member_phone)\n",
    "VALUES\n",
    "    (1, 'John Doe', 'john.doe@example.com', '123-456-7890'),\n",
    "    (2, 'Jane Smith', 'jane.smith@example.com', '987-654-3210');\n"
   ]
  },
  {
   "cell_type": "code",
   "execution_count": null,
   "id": "86a7e8b6",
   "metadata": {},
   "outputs": [],
   "source": [
    "CREATE TABLE Borrowings (\n",
    "    borrowing_id INT PRIMARY KEY,\n",
    "    book_id INT,\n",
    "    member_id INT,\n",
    "    borrowing_date DATE,\n",
    "    return_date DATE,\n",
    "    is_returned BOOLEAN,\n",
    "    FOREIGN KEY (book_id) REFERENCES Books(book_id),\n",
    "    FOREIGN KEY (member_id) REFERENCES Members(member_id)\n",
    ");\n"
   ]
  },
  {
   "cell_type": "code",
   "execution_count": null,
   "id": "bc19d49c",
   "metadata": {},
   "outputs": [],
   "source": [
    "INSERT INTO Borrowings (borrowing_id, book_id, member_id, borrowing_date, return_date, is_returned)\n",
    "VALUES\n",
    "    (1, 1, 1, '2024-02-10', '2024-02-20', true),\n",
    "    (2, 2, 2, '2024-02-15', NULL, false);\n"
   ]
  },
  {
   "cell_type": "code",
   "execution_count": null,
   "id": "c7216394",
   "metadata": {},
   "outputs": [],
   "source": [
    "create table Publishers(\n",
    "publisher_id int Primary Key,\n",
    "publisher_name varchar(100),\n",
    "publisher_country varchar(100));"
   ]
  },
  {
   "cell_type": "code",
   "execution_count": null,
   "id": "b995fc89",
   "metadata": {},
   "outputs": [],
   "source": [
    "INSERT INTO Publishers (publisher_id, publisher_name, publisher_country)\n",
    "VALUES\n",
    "    (1, 'Penguin Random House', 'United States'),\n",
    "    (2, 'HarperCollins', 'United Kingdom');\n"
   ]
  },
  {
   "cell_type": "code",
   "execution_count": null,
   "id": "b99248b1",
   "metadata": {},
   "outputs": [],
   "source": [
    "CREATE TABLE BookCopies (\n",
    "    copy_id INT PRIMARY KEY,\n",
    "    book_id INT,\n",
    "    copy_number INT,\n",
    "    copy_condition VARCHAR(100),\n",
    "    shelf_location VARCHAR(100),\n",
    "    FOREIGN KEY (book_id) REFERENCES Books(book_id)\n",
    ");\n"
   ]
  },
  {
   "cell_type": "code",
   "execution_count": null,
   "id": "9c378aa9",
   "metadata": {},
   "outputs": [],
   "source": [
    "INSERT INTO BookCopies (copy_id, book_id, copy_number, copy_condition, shelf_location)\n",
    "VALUES\n",
    "    (1, 1, '001', 'Good', 'A1'),\n",
    "    (2, 1, '002', 'Fair', 'B3');\n"
   ]
  },
  {
   "cell_type": "code",
   "execution_count": null,
   "id": "2a709a35",
   "metadata": {},
   "outputs": [],
   "source": [
    "CREATE TABLE AuthorsBooksMapping (\n",
    "    author_book_id INT PRIMARY KEY,\n",
    "    author_id INT,\n",
    "    book_id INT,\n",
    "    FOREIGN KEY (author_id) REFERENCES Authors(author_id),\n",
    "    FOREIGN KEY (book_id) REFERENCES Books(book_id)\n",
    ");\n"
   ]
  },
  {
   "cell_type": "code",
   "execution_count": null,
   "id": "b7c9bade",
   "metadata": {},
   "outputs": [],
   "source": [
    "INSERT INTO AuthorsBooksMapping (author_book_id, author_id, book_id)\n",
    "VALUES\n",
    "    (1, 1, 1),\n",
    "    (2, 2, 2);\n"
   ]
  },
  {
   "cell_type": "code",
   "execution_count": null,
   "id": "72b8f366",
   "metadata": {},
   "outputs": [],
   "source": [
    "CREATE TABLE Reviews (\n",
    "    review_id INT PRIMARY KEY,\n",
    "    book_id INT,\n",
    "    member_id INT,\n",
    "    rating DECIMAL(3,1),\n",
    "    review_text TEXT,\n",
    "    review_date DATE,\n",
    "    FOREIGN KEY (book_id) REFERENCES Books(book_id),\n",
    "    FOREIGN KEY (member_id) REFERENCES Members(member_id)\n",
    ");\n"
   ]
  },
  {
   "cell_type": "code",
   "execution_count": null,
   "id": "29b19fbc",
   "metadata": {},
   "outputs": [],
   "source": [
    "INSERT INTO Reviews (review_id, book_id, member_id, rating, review_text, review_date)\n",
    "VALUES\n",
    "    (1, 1, 1, 4.5, 'A classic masterpiece.', '2024-02-12'),\n",
    "    (2, 2, 2, 5.0, 'Absolutely loved it!', '2024-02-18');\n"
   ]
  },
  {
   "cell_type": "code",
   "execution_count": null,
   "id": "80439c32",
   "metadata": {},
   "outputs": [],
   "source": [
    "CREATE TABLE Transactions (\n",
    "    transaction_id INT PRIMARY KEY,\n",
    "    member_id INT,\n",
    "    transaction_date DATE,\n",
    "    transaction_type VARCHAR(20),\n",
    "    amount_paid DECIMAL(10, 2),\n",
    "    FOREIGN KEY (member_id) REFERENCES Members(member_id)\n",
    ");\n"
   ]
  },
  {
   "cell_type": "code",
   "execution_count": null,
   "id": "6478a0f0",
   "metadata": {},
   "outputs": [],
   "source": [
    "INSERT INTO Transactions (transaction_id, member_id, transaction_date, transaction_type, amount_paid)\n",
    "VALUES\n",
    "    (1, 1, '2024-02-10', 'Borrow', 0),\n",
    "    (2, 2, '2024-02-15', 'Borrow', 0);\n"
   ]
  },
  {
   "cell_type": "code",
   "execution_count": null,
   "id": "1bc7ecfe",
   "metadata": {},
   "outputs": [],
   "source": [
    "#1.List all books borrowed by a specific member?\n",
    "\n",
    "SELECT b.title, b.author, b.genre, b.publication_date, b.isbn\n",
    "FROM Books b\n",
    "JOIN Borrowings bor ON b.book_id = bor.book_id\n",
    "JOIN Members m ON bor.member_id = m.member_id\n",
    "WHERE m.member_name = 'John Doe';\n"
   ]
  },
  {
   "cell_type": "code",
   "execution_count": null,
   "id": "167fa0c2",
   "metadata": {},
   "outputs": [],
   "source": [
    "#2.Find the most popular genres?\n",
    "\n",
    "SELECT b.genre, COUNT(*) AS borrow_count\n",
    "FROM Borrowings bor\n",
    "JOIN Books b ON bor.book_id = b.book_id\n",
    "GROUP BY b.genre\n",
    "ORDER BY borrow_count DESC;   #this gives the result as fantasy the most popular genre\n"
   ]
  },
  {
   "cell_type": "code",
   "execution_count": null,
   "id": "c23cc15a",
   "metadata": {},
   "outputs": [],
   "source": [
    "#3.Identify books with the highest average rating?\n",
    "SELECT b.title, b.author, AVG(r.rating) AS avg_rating\n",
    "FROM Books b\n",
    "JOIN Reviews r ON b.book_id = r.book_id\n",
    "GROUP BY b.title, b.author\n",
    "ORDER BY avg_rating DESC;\n"
   ]
  },
  {
   "cell_type": "code",
   "execution_count": null,
   "id": "d37e979c",
   "metadata": {},
   "outputs": [],
   "source": [
    "#4.List all members who have borrowed more than 5 books?\n",
    "\n",
    "SELECT m.member_id, m.member_name, COUNT(*) AS borrow_count\n",
    "FROM Members m\n",
    "JOIN Borrowings bor ON m.member_id = bor.member_id\n",
    "GROUP BY m.member_id, m.member_name\n",
    "HAVING COUNT(*) > 5;\n"
   ]
  },
  {
   "cell_type": "code",
   "execution_count": null,
   "id": "c627d6ce",
   "metadata": {},
   "outputs": [],
   "source": [
    "#5.List all members who have borrowed less than 5 books?\n",
    "SELECT m.member_id, m.member_name, COUNT(*) AS borrow_count\n",
    "FROM Members m\n",
    "JOIN Borrowings bor ON m.member_id = bor.member_id\n",
    "GROUP BY m.member_id, m.member_name\n",
    "HAVING COUNT(*) < 5;\n"
   ]
  },
  {
   "cell_type": "code",
   "execution_count": null,
   "id": "d9800053",
   "metadata": {},
   "outputs": [],
   "source": [
    "#6. Retrieve the top-rated books with at least 5 reviews?\n",
    "\n",
    "SELECT title, author, avg_rating\n",
    "FROM (\n",
    "    SELECT b.title, b.author, AVG(r.rating) AS avg_rating, COUNT(r.review_id) AS review_count\n",
    "    FROM Books b\n",
    "    JOIN Reviews r ON b.book_id = r.book_id\n",
    "    GROUP BY b.title, b.author\n",
    "    HAVING COUNT(r.review_id) >= 5\n",
    ") AS top_books\n",
    "ORDER BY avg_rating DESC;\n"
   ]
  },
  {
   "cell_type": "code",
   "execution_count": null,
   "id": "0beaf2c2",
   "metadata": {},
   "outputs": [],
   "source": [
    "#7.Calculate the total revenue generated from book purchases?\n",
    "SELECT SUM(amount_paid) AS total_revenue\n",
    "FROM Transactions\n",
    "WHERE transaction_type = 'purchase';\n"
   ]
  },
  {
   "cell_type": "code",
   "execution_count": null,
   "id": "d71bf115",
   "metadata": {},
   "outputs": [],
   "source": [
    "#8.List all books with their respective authors and publishers:\n",
    "SELECT \n",
    "    b.title AS book_title,\n",
    "    b.author AS book_author\n",
    "FROM \n",
    "    Books b\n",
    "JOIN \n",
    "    Authors a ON b.author = a.author_name;\n",
    "\n"
   ]
  },
  {
   "cell_type": "code",
   "execution_count": null,
   "id": "3ae0321d",
   "metadata": {},
   "outputs": [],
   "source": [
    "#9.Find books that are currently available for borrowing?\n",
    "\n",
    "SELECT *\n",
    "FROM Books\n",
    "WHERE quantity_available > 0;\n"
   ]
  },
  {
   "cell_type": "code",
   "execution_count": null,
   "id": "d5525f91",
   "metadata": {},
   "outputs": [],
   "source": [
    "#10.Identify members who have overdue books?\n",
    "SELECT m.member_id, m.member_name\n",
    "FROM Members m\n",
    "JOIN Borrowings b ON m.member_id = b.member_id\n",
    "WHERE b.return_date < CURRENT_DATE AND b.is_returned = false;\n"
   ]
  },
  {
   "cell_type": "code",
   "execution_count": null,
   "id": "a70a0265",
   "metadata": {},
   "outputs": [],
   "source": [
    "#11.List the top 10 most borrowed books?\n",
    "\n",
    "SELECT b.title AS book_title, COUNT(*) AS borrow_count\n",
    "FROM Books b\n",
    "JOIN Borrowings bor ON b.book_id = bor.book_id\n",
    "GROUP BY b.title\n",
    "ORDER BY borrow_count DESC\n",
    "LIMIT 10;\n"
   ]
  },
  {
   "cell_type": "code",
   "execution_count": null,
   "id": "c1645d3a",
   "metadata": {},
   "outputs": [],
   "source": [
    "#12.Calculate the average number of days a book is borrowed for?\n",
    "SELECT AVG(DATEDIFF(return_date, borrowing_date)) AS avg_days_borrowed\n",
    "FROM Borrowings\n",
    "WHERE is_returned = true;\n"
   ]
  },
  {
   "cell_type": "code",
   "execution_count": null,
   "id": "02a3f883",
   "metadata": {},
   "outputs": [],
   "source": [
    "#13.Find the total number of books published in each year?\n",
    "SELECT YEAR(publication_date) AS publication_year, COUNT(*) AS total_books_published\n",
    "FROM Books\n",
    "GROUP BY publication_year\n",
    "ORDER BY publication_year;\n"
   ]
  },
  {
   "cell_type": "code",
   "execution_count": null,
   "id": "2ef70b56",
   "metadata": {},
   "outputs": [],
   "source": [
    "#14.Identify members who have borrowed books more than once?\n",
    "SELECT member_id, member_name\n",
    "FROM Members\n",
    "WHERE member_id IN (\n",
    "    SELECT member_id\n",
    "    FROM Borrowings\n",
    "    GROUP BY member_id\n",
    "    HAVING COUNT(*) > 1\n",
    ");\n"
   ]
  },
  {
   "cell_type": "code",
   "execution_count": null,
   "id": "761a2025",
   "metadata": {},
   "outputs": [],
   "source": [
    "#15.List all books with their respective authors and average ratings?\n",
    "SELECT \n",
    "    b.title AS book_title, \n",
    "    a.author_name AS author, \n",
    "    AVG(r.rating) AS average_rating\n",
    "FROM \n",
    "    Books b\n",
    "JOIN \n",
    "    Authors a ON b.author = a.author_name\n",
    "LEFT JOIN \n",
    "    Reviews r ON b.book_id = r.book_id\n",
    "GROUP BY \n",
    "    b.title, a.author_name;\n"
   ]
  },
  {
   "cell_type": "code",
   "execution_count": null,
   "id": "186e2c90",
   "metadata": {},
   "outputs": [],
   "source": [
    "#16.Calculate the total number of copies available for each book?\n",
    "SELECT \n",
    "    b.title AS book_title, \n",
    "    COUNT(bc.copy_id) AS total_copies_available\n",
    "FROM \n",
    "    Books b\n",
    "JOIN \n",
    "    BookCopies bc ON b.book_id = bc.book_id\n",
    "GROUP BY \n",
    "    b.title;\n"
   ]
  },
  {
   "cell_type": "code",
   "execution_count": null,
   "id": "3e1e5618",
   "metadata": {},
   "outputs": [],
   "source": [
    "#17.Create a view of transaction table and provide privilege to another user. The user can view only member id and transaction date and privilege \n",
    "#should be to select id who made transaction on any specific date.\n",
    "\n",
    "Step 1: Create the view:\n",
    "CREATE VIEW LimitedTransactionView AS\n",
    "SELECT member_id, transaction_date\n",
    "FROM Transactions;\n",
    "\n",
    "\n",
    "Step 2(Optional): Create a stored procedure to select records for a specific date:\n",
    "\n",
    "\n",
    "DELIMITER //\n",
    "\n",
    "CREATE PROCEDURE SelectTransactionsByDate(IN search_date DATE)\n",
    "BEGIN\n",
    "    SELECT member_id\n",
    "    FROM LimitedTransactionView\n",
    "    WHERE transaction_date = search_date;\n",
    "END //\n",
    "\n",
    "DELIMITER ;\n",
    "\n"
   ]
  }
 ],
 "metadata": {
  "kernelspec": {
   "display_name": "Python 3 (ipykernel)",
   "language": "python",
   "name": "python3"
  },
  "language_info": {
   "codemirror_mode": {
    "name": "ipython",
    "version": 3
   },
   "file_extension": ".py",
   "mimetype": "text/x-python",
   "name": "python",
   "nbconvert_exporter": "python",
   "pygments_lexer": "ipython3",
   "version": "3.11.5"
  }
 },
 "nbformat": 4,
 "nbformat_minor": 5
}
